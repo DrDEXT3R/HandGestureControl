{
 "cells": [
  {
   "cell_type": "code",
   "execution_count": 1,
   "metadata": {
    "colab": {
     "base_uri": "https://localhost:8080/",
     "height": 34
    },
    "colab_type": "code",
    "executionInfo": {
     "elapsed": 2958,
     "status": "ok",
     "timestamp": 1571939413018,
     "user": {
      "displayName": "Tomasz Strzoda",
      "photoUrl": "https://lh3.googleusercontent.com/a-/AAuE7mBGLtmE98o8234CPgJopZM62q5jaTV8nhZnkAYS7g=s64",
      "userId": "02245943062555407675"
     },
     "user_tz": -120
    },
    "id": "46_5NEr0wDG7",
    "outputId": "c6f64ab0-9849-4ee2-8ffb-f1381647b6f0"
   },
   "outputs": [
    {
     "name": "stderr",
     "output_type": "stream",
     "text": [
      "/usr/lib/python3/dist-packages/h5py/__init__.py:36: FutureWarning: Conversion of the second argument of issubdtype from `float` to `np.floating` is deprecated. In future, it will be treated as `np.float64 == np.dtype(float).type`.\n",
      "  from ._conv import register_converters as _register_converters\n",
      "Using TensorFlow backend.\n",
      "/usr/local/lib/python3.6/dist-packages/tensorflow/python/framework/dtypes.py:516: FutureWarning: Passing (type, 1) or '1type' as a synonym of type is deprecated; in a future version of numpy, it will be understood as (type, (1,)) / '(1,)type'.\n",
      "  _np_qint8 = np.dtype([(\"qint8\", np.int8, 1)])\n",
      "/usr/local/lib/python3.6/dist-packages/tensorflow/python/framework/dtypes.py:517: FutureWarning: Passing (type, 1) or '1type' as a synonym of type is deprecated; in a future version of numpy, it will be understood as (type, (1,)) / '(1,)type'.\n",
      "  _np_quint8 = np.dtype([(\"quint8\", np.uint8, 1)])\n",
      "/usr/local/lib/python3.6/dist-packages/tensorflow/python/framework/dtypes.py:518: FutureWarning: Passing (type, 1) or '1type' as a synonym of type is deprecated; in a future version of numpy, it will be understood as (type, (1,)) / '(1,)type'.\n",
      "  _np_qint16 = np.dtype([(\"qint16\", np.int16, 1)])\n",
      "/usr/local/lib/python3.6/dist-packages/tensorflow/python/framework/dtypes.py:519: FutureWarning: Passing (type, 1) or '1type' as a synonym of type is deprecated; in a future version of numpy, it will be understood as (type, (1,)) / '(1,)type'.\n",
      "  _np_quint16 = np.dtype([(\"quint16\", np.uint16, 1)])\n",
      "/usr/local/lib/python3.6/dist-packages/tensorflow/python/framework/dtypes.py:520: FutureWarning: Passing (type, 1) or '1type' as a synonym of type is deprecated; in a future version of numpy, it will be understood as (type, (1,)) / '(1,)type'.\n",
      "  _np_qint32 = np.dtype([(\"qint32\", np.int32, 1)])\n",
      "/usr/local/lib/python3.6/dist-packages/tensorflow/python/framework/dtypes.py:525: FutureWarning: Passing (type, 1) or '1type' as a synonym of type is deprecated; in a future version of numpy, it will be understood as (type, (1,)) / '(1,)type'.\n",
      "  np_resource = np.dtype([(\"resource\", np.ubyte, 1)])\n",
      "/usr/local/lib/python3.6/dist-packages/tensorboard/compat/tensorflow_stub/dtypes.py:541: FutureWarning: Passing (type, 1) or '1type' as a synonym of type is deprecated; in a future version of numpy, it will be understood as (type, (1,)) / '(1,)type'.\n",
      "  _np_qint8 = np.dtype([(\"qint8\", np.int8, 1)])\n",
      "/usr/local/lib/python3.6/dist-packages/tensorboard/compat/tensorflow_stub/dtypes.py:542: FutureWarning: Passing (type, 1) or '1type' as a synonym of type is deprecated; in a future version of numpy, it will be understood as (type, (1,)) / '(1,)type'.\n",
      "  _np_quint8 = np.dtype([(\"quint8\", np.uint8, 1)])\n",
      "/usr/local/lib/python3.6/dist-packages/tensorboard/compat/tensorflow_stub/dtypes.py:543: FutureWarning: Passing (type, 1) or '1type' as a synonym of type is deprecated; in a future version of numpy, it will be understood as (type, (1,)) / '(1,)type'.\n",
      "  _np_qint16 = np.dtype([(\"qint16\", np.int16, 1)])\n",
      "/usr/local/lib/python3.6/dist-packages/tensorboard/compat/tensorflow_stub/dtypes.py:544: FutureWarning: Passing (type, 1) or '1type' as a synonym of type is deprecated; in a future version of numpy, it will be understood as (type, (1,)) / '(1,)type'.\n",
      "  _np_quint16 = np.dtype([(\"quint16\", np.uint16, 1)])\n",
      "/usr/local/lib/python3.6/dist-packages/tensorboard/compat/tensorflow_stub/dtypes.py:545: FutureWarning: Passing (type, 1) or '1type' as a synonym of type is deprecated; in a future version of numpy, it will be understood as (type, (1,)) / '(1,)type'.\n",
      "  _np_qint32 = np.dtype([(\"qint32\", np.int32, 1)])\n",
      "/usr/local/lib/python3.6/dist-packages/tensorboard/compat/tensorflow_stub/dtypes.py:550: FutureWarning: Passing (type, 1) or '1type' as a synonym of type is deprecated; in a future version of numpy, it will be understood as (type, (1,)) / '(1,)type'.\n",
      "  np_resource = np.dtype([(\"resource\", np.ubyte, 1)])\n"
     ]
    }
   ],
   "source": [
    "import keras\n",
    "import os \n",
    "import shutil\n",
    "from keras import layers\n",
    "from keras import models\n",
    "from keras import optimizers\n",
    "from keras.preprocessing.image import ImageDataGenerator\n",
    "from sklearn.model_selection import train_test_split\n",
    "import matplotlib.pyplot as plt\n",
    "\n",
    "width = 128\n",
    "height = 128"
   ]
  },
  {
   "cell_type": "code",
   "execution_count": 2,
   "metadata": {
    "colab": {},
    "colab_type": "code",
    "id": "xHahrgyu5Qdl"
   },
   "outputs": [],
   "source": [
    "dataset_dir = 'dataset'\n",
    "\n",
    "x_data = []\n",
    "y_data = []\n",
    "\n",
    "# Loop over the six top-level folders\n",
    "for i in range(0, 6):\n",
    "    for j in os.listdir(dataset_dir + '/0' + str(i) + '/'):\n",
    "        # Avoid hidden folders\n",
    "        if not j.startswith('.'): \n",
    "            path = dataset_dir + '/0' + str(i) + '/' + j\n",
    "            # Put all data into the x_data and y_data arrays\n",
    "            x_data.append(path)\n",
    "            y_data.append('0' + str(i))\n",
    "  \n",
    "  \n",
    "# Divide the data into 3 sets\n",
    "x_train,x_further,y_train,y_further = train_test_split(x_data,y_data,test_size = 0.2)\n",
    "x_validate,x_test,y_validate,y_test = train_test_split(x_further,y_further,test_size = 0.5)"
   ]
  },
  {
   "cell_type": "code",
   "execution_count": 3,
   "metadata": {
    "colab": {},
    "colab_type": "code",
    "id": "2YIhYhBj6RCw"
   },
   "outputs": [],
   "source": [
    "# Path of directory where the divided sets will be\n",
    "base_dir = 'splitted'\n",
    "if not os.path.exists(base_dir):\n",
    "    os.mkdir(base_dir)\n",
    "\n",
    "    # Paths to subset catalogs (training, validation and test set)\n",
    "    train_dir = os.path.join(base_dir, 'train')\n",
    "    os.mkdir(train_dir)\n",
    "    validation_dir = os.path.join(base_dir, 'validation')\n",
    "    os.mkdir(validation_dir)\n",
    "    test_dir = os.path.join(base_dir, 'test')\n",
    "    os.mkdir(test_dir)"
   ]
  },
  {
   "cell_type": "code",
   "execution_count": 4,
   "metadata": {
    "colab": {},
    "colab_type": "code",
    "id": "8o6xA-WktXxO"
   },
   "outputs": [],
   "source": [
    "# Create label folders (training set)\n",
    "for i in range(len(y_train)):\n",
    "    path = os.path.join(train_dir, y_train[i])\n",
    "    if os.path.isdir(path) == False:\n",
    "        os.mkdir(path)\n",
    "    \n",
    "# Create label folders (validation set)\n",
    "for i in range(len(y_validate)):\n",
    "    path = os.path.join(validation_dir, y_validate[i])\n",
    "    if os.path.isdir(path) == False:\n",
    "        os.mkdir(path)\n",
    "        \n",
    "# Create label folders (test set)\n",
    "for i in range(len(y_test)):\n",
    "    path = os.path.join(test_dir, y_test[i])\n",
    "    if os.path.isdir(path) == False:\n",
    "        os.mkdir(path)"
   ]
  },
  {
   "cell_type": "code",
   "execution_count": 5,
   "metadata": {
    "colab": {},
    "colab_type": "code",
    "id": "qP7pgGxYvSNJ"
   },
   "outputs": [],
   "source": [
    "# Move training images to the new directory\n",
    "for i in range(len(x_train)):\n",
    "    path = x_train[i]\n",
    "    fileName = path[x_train[i].rfind('/')+1:]\n",
    "    dst = os.path.join(train_dir, y_train[i], fileName)\n",
    "    shutil.copyfile(x_train[i], dst)\n",
    "\n",
    "# Move validation images to the new directory\n",
    "for i in range(len(x_validate)):\n",
    "    path = x_validate[i]\n",
    "    fileName = path[x_validate[i].rfind('/')+1:]\n",
    "    dst = os.path.join(validation_dir, y_validate[i], fileName)\n",
    "    shutil.copyfile(x_validate[i], dst)\n",
    "    \n",
    "# Move test images to the new directory\n",
    "for i in range(len(x_test)):\n",
    "    path = x_test[i]\n",
    "    fileName = path[x_test[i].rfind('/')+1:]\n",
    "    dst = os.path.join(test_dir, y_test[i], fileName)\n",
    "    shutil.copyfile(x_test[i], dst)"
   ]
  },
  {
   "cell_type": "code",
   "execution_count": 6,
   "metadata": {
    "colab": {
     "base_uri": "https://localhost:8080/",
     "height": 683
    },
    "colab_type": "code",
    "executionInfo": {
     "elapsed": 832,
     "status": "ok",
     "timestamp": 1571939445428,
     "user": {
      "displayName": "Tomasz Strzoda",
      "photoUrl": "https://lh3.googleusercontent.com/a-/AAuE7mBGLtmE98o8234CPgJopZM62q5jaTV8nhZnkAYS7g=s64",
      "userId": "02245943062555407675"
     },
     "user_tz": -120
    },
    "id": "XvVqZ00oD5sd",
    "outputId": "38393586-98ab-4854-db96-0dcecff140ff"
   },
   "outputs": [
    {
     "name": "stdout",
     "output_type": "stream",
     "text": [
      "WARNING:tensorflow:From /usr/local/lib/python3.6/dist-packages/Keras-2.3.1-py3.6.egg/keras/backend/tensorflow_backend.py:4070: The name tf.nn.max_pool is deprecated. Please use tf.nn.max_pool2d instead.\n",
      "\n",
      "Model: \"sequential_1\"\n",
      "_________________________________________________________________\n",
      "Layer (type)                 Output Shape              Param #   \n",
      "=================================================================\n",
      "conv2d_1 (Conv2D)            (None, 126, 126, 32)      320       \n",
      "_________________________________________________________________\n",
      "max_pooling2d_1 (MaxPooling2 (None, 63, 63, 32)        0         \n",
      "_________________________________________________________________\n",
      "conv2d_2 (Conv2D)            (None, 61, 61, 64)        18496     \n",
      "_________________________________________________________________\n",
      "max_pooling2d_2 (MaxPooling2 (None, 30, 30, 64)        0         \n",
      "_________________________________________________________________\n",
      "conv2d_3 (Conv2D)            (None, 28, 28, 128)       73856     \n",
      "_________________________________________________________________\n",
      "max_pooling2d_3 (MaxPooling2 (None, 14, 14, 128)       0         \n",
      "_________________________________________________________________\n",
      "conv2d_4 (Conv2D)            (None, 12, 12, 128)       147584    \n",
      "_________________________________________________________________\n",
      "max_pooling2d_4 (MaxPooling2 (None, 6, 6, 128)         0         \n",
      "_________________________________________________________________\n",
      "flatten_1 (Flatten)          (None, 4608)              0         \n",
      "_________________________________________________________________\n",
      "dense_1 (Dense)              (None, 512)               2359808   \n",
      "_________________________________________________________________\n",
      "dense_2 (Dense)              (None, 6)                 3078      \n",
      "=================================================================\n",
      "Total params: 2,603,142\n",
      "Trainable params: 2,603,142\n",
      "Non-trainable params: 0\n",
      "_________________________________________________________________\n"
     ]
    }
   ],
   "source": [
    "# Neural network model\n",
    "model = models.Sequential()\n",
    "model.add(layers.Conv2D(32, (3, 3), activation='relu', input_shape=(height, width, 1)))\n",
    "model.add(layers.MaxPooling2D((2, 2)))\n",
    "model.add(layers.Conv2D(64, (3, 3), activation='relu'))\n",
    "model.add(layers.MaxPooling2D((2, 2)))\n",
    "model.add(layers.Conv2D(128, (3, 3), activation='relu'))\n",
    "model.add(layers.MaxPooling2D((2, 2)))\n",
    "model.add(layers.Conv2D(128, (3, 3), activation='relu'))\n",
    "model.add(layers.MaxPooling2D((2, 2)))\n",
    "model.add(layers.Flatten())\n",
    "model.add(layers.Dense(512, activation='relu'))\n",
    "model.add(layers.Dense(6, activation='softmax'))\n",
    "\n",
    "model.summary()"
   ]
  },
  {
   "cell_type": "code",
   "execution_count": 7,
   "metadata": {
    "colab": {
     "base_uri": "https://localhost:8080/",
     "height": 105
    },
    "colab_type": "code",
    "executionInfo": {
     "elapsed": 832,
     "status": "ok",
     "timestamp": 1571939452483,
     "user": {
      "displayName": "Tomasz Strzoda",
      "photoUrl": "https://lh3.googleusercontent.com/a-/AAuE7mBGLtmE98o8234CPgJopZM62q5jaTV8nhZnkAYS7g=s64",
      "userId": "02245943062555407675"
     },
     "user_tz": -120
    },
    "id": "8NouOTysrjA0",
    "outputId": "69045686-2883-4c72-b226-d2e6a4cd7bbb"
   },
   "outputs": [],
   "source": [
    "model.compile(optimizer='rmsprop', loss='categorical_crossentropy', metrics=['accuracy'])\n",
    "\n",
    "datagen = ImageDataGenerator(rescale=1./255)"
   ]
  },
  {
   "cell_type": "code",
   "execution_count": 8,
   "metadata": {
    "colab": {
     "base_uri": "https://localhost:8080/",
     "height": 51
    },
    "colab_type": "code",
    "executionInfo": {
     "elapsed": 1758,
     "status": "ok",
     "timestamp": 1571939456473,
     "user": {
      "displayName": "Tomasz Strzoda",
      "photoUrl": "https://lh3.googleusercontent.com/a-/AAuE7mBGLtmE98o8234CPgJopZM62q5jaTV8nhZnkAYS7g=s64",
      "userId": "02245943062555407675"
     },
     "user_tz": -120
    },
    "id": "SMwHGAM8r1VL",
    "outputId": "4311a631-a673-4aae-e145-5c3abf018d43"
   },
   "outputs": [
    {
     "name": "stdout",
     "output_type": "stream",
     "text": [
      "Found 4800 images belonging to 6 classes.\n",
      "Found 600 images belonging to 6 classes.\n",
      "Found 600 images belonging to 6 classes.\n"
     ]
    }
   ],
   "source": [
    "# Convert images to the right form\n",
    "train_generator = datagen.flow_from_directory(\n",
    "        train_dir,\n",
    "        target_size=(height, width),\n",
    "        color_mode='grayscale',\n",
    "        batch_size=20,\n",
    "        class_mode='categorical')\n",
    "\n",
    "validation_generator = datagen.flow_from_directory(\n",
    "        validation_dir,\n",
    "        target_size=(height, width),\n",
    "        color_mode='grayscale',\n",
    "        batch_size=20,\n",
    "        class_mode='categorical')\n",
    "\n",
    "test_generator = datagen.flow_from_directory(\n",
    "        test_dir,\n",
    "        target_size=(height, width),\n",
    "        color_mode='grayscale',\n",
    "        batch_size=20,\n",
    "        class_mode='categorical')"
   ]
  },
  {
   "cell_type": "code",
   "execution_count": 9,
   "metadata": {
    "colab": {
     "base_uri": "https://localhost:8080/",
     "height": 1000
    },
    "colab_type": "code",
    "executionInfo": {
     "elapsed": 252671,
     "status": "ok",
     "timestamp": 1571939716543,
     "user": {
      "displayName": "Tomasz Strzoda",
      "photoUrl": "https://lh3.googleusercontent.com/a-/AAuE7mBGLtmE98o8234CPgJopZM62q5jaTV8nhZnkAYS7g=s64",
      "userId": "02245943062555407675"
     },
     "user_tz": -120
    },
    "id": "-UymbhQNwWGb",
    "outputId": "ea5e9186-8659-4329-9bea-ca3bc42f837b"
   },
   "outputs": [
    {
     "name": "stdout",
     "output_type": "stream",
     "text": [
      "WARNING:tensorflow:From /usr/local/lib/python3.6/dist-packages/Keras-2.3.1-py3.6.egg/keras/backend/tensorflow_backend.py:422: The name tf.global_variables is deprecated. Please use tf.compat.v1.global_variables instead.\n",
      "\n",
      "Epoch 1/30\n",
      "100/100 [==============================] - 38s 384ms/step - loss: 0.4887 - accuracy: 0.8435 - val_loss: 0.0297 - val_accuracy: 0.9820\n",
      "Epoch 2/30\n",
      "100/100 [==============================] - 37s 369ms/step - loss: 0.0802 - accuracy: 0.9775 - val_loss: 0.2435 - val_accuracy: 0.9710\n",
      "Epoch 3/30\n",
      "100/100 [==============================] - 37s 368ms/step - loss: 0.0483 - accuracy: 0.9880 - val_loss: 0.2181 - val_accuracy: 0.9860\n",
      "Epoch 4/30\n",
      "100/100 [==============================] - 37s 368ms/step - loss: 0.0296 - accuracy: 0.9915 - val_loss: 4.3920e-04 - val_accuracy: 0.9990\n",
      "Epoch 5/30\n",
      "100/100 [==============================] - 37s 368ms/step - loss: 0.0050 - accuracy: 0.9990 - val_loss: 3.1292e-06 - val_accuracy: 0.9980\n",
      "Epoch 6/30\n",
      "100/100 [==============================] - 37s 372ms/step - loss: 0.0240 - accuracy: 0.9955 - val_loss: 1.1389e-05 - val_accuracy: 0.9970\n",
      "Epoch 7/30\n",
      "100/100 [==============================] - 37s 369ms/step - loss: 0.0216 - accuracy: 0.9965 - val_loss: 5.1489e-04 - val_accuracy: 1.0000\n",
      "Epoch 8/30\n",
      "100/100 [==============================] - 37s 373ms/step - loss: 0.0163 - accuracy: 0.9975 - val_loss: 6.7949e-07 - val_accuracy: 0.9990\n",
      "Epoch 9/30\n",
      "100/100 [==============================] - 41s 413ms/step - loss: 0.0150 - accuracy: 0.9970 - val_loss: 4.5299e-07 - val_accuracy: 0.9980\n",
      "Epoch 10/30\n",
      "100/100 [==============================] - 39s 389ms/step - loss: 0.0061 - accuracy: 0.9985 - val_loss: 0.0000e+00 - val_accuracy: 0.9990\n",
      "Epoch 11/30\n",
      "100/100 [==============================] - 40s 399ms/step - loss: 0.0051 - accuracy: 0.9985 - val_loss: 0.1291 - val_accuracy: 0.9980\n",
      "Epoch 12/30\n",
      "100/100 [==============================] - 41s 410ms/step - loss: 0.0030 - accuracy: 0.9990 - val_loss: 1.9669e-07 - val_accuracy: 0.9980\n",
      "Epoch 13/30\n",
      "100/100 [==============================] - 40s 397ms/step - loss: 0.0027 - accuracy: 0.9995 - val_loss: 5.3644e-08 - val_accuracy: 1.0000\n",
      "Epoch 14/30\n",
      "100/100 [==============================] - 41s 407ms/step - loss: 0.0066 - accuracy: 0.9980 - val_loss: 0.0000e+00 - val_accuracy: 0.9970\n",
      "Epoch 15/30\n",
      "100/100 [==============================] - 40s 400ms/step - loss: 5.4182e-05 - accuracy: 1.0000 - val_loss: 0.0000e+00 - val_accuracy: 0.9960\n",
      "Epoch 16/30\n",
      "100/100 [==============================] - 41s 407ms/step - loss: 0.0070 - accuracy: 0.9995 - val_loss: 1.1921e-08 - val_accuracy: 1.0000\n",
      "Epoch 17/30\n",
      "100/100 [==============================] - 38s 383ms/step - loss: 1.9006e-05 - accuracy: 1.0000 - val_loss: 0.0000e+00 - val_accuracy: 0.9980\n",
      "Epoch 18/30\n",
      "100/100 [==============================] - 37s 371ms/step - loss: 1.1586e-07 - accuracy: 1.0000 - val_loss: 0.0000e+00 - val_accuracy: 1.0000\n",
      "Epoch 19/30\n",
      "100/100 [==============================] - 37s 369ms/step - loss: 1.1325e-09 - accuracy: 1.0000 - val_loss: 9.8966e-04 - val_accuracy: 1.0000\n",
      "Epoch 20/30\n",
      "100/100 [==============================] - 38s 382ms/step - loss: 0.0000e+00 - accuracy: 1.0000 - val_loss: 0.0000e+00 - val_accuracy: 1.0000\n",
      "Epoch 21/30\n",
      "100/100 [==============================] - 38s 383ms/step - loss: 0.0000e+00 - accuracy: 1.0000 - val_loss: 0.0000e+00 - val_accuracy: 1.0000\n",
      "Epoch 22/30\n",
      "100/100 [==============================] - 37s 370ms/step - loss: 0.0000e+00 - accuracy: 1.0000 - val_loss: 0.0000e+00 - val_accuracy: 1.0000\n",
      "Epoch 23/30\n",
      "100/100 [==============================] - 37s 370ms/step - loss: 0.0000e+00 - accuracy: 1.0000 - val_loss: 0.0000e+00 - val_accuracy: 1.0000\n",
      "Epoch 24/30\n",
      "100/100 [==============================] - 37s 369ms/step - loss: 0.0000e+00 - accuracy: 1.0000 - val_loss: 0.0000e+00 - val_accuracy: 1.0000\n",
      "Epoch 25/30\n",
      "100/100 [==============================] - 37s 369ms/step - loss: 0.0000e+00 - accuracy: 1.0000 - val_loss: 0.0000e+00 - val_accuracy: 1.0000\n",
      "Epoch 26/30\n",
      "100/100 [==============================] - 37s 372ms/step - loss: 0.0000e+00 - accuracy: 1.0000 - val_loss: 0.0000e+00 - val_accuracy: 1.0000\n",
      "Epoch 27/30\n",
      "100/100 [==============================] - 37s 371ms/step - loss: 0.0000e+00 - accuracy: 1.0000 - val_loss: 0.0000e+00 - val_accuracy: 1.0000\n",
      "Epoch 28/30\n",
      "100/100 [==============================] - 37s 370ms/step - loss: 0.0000e+00 - accuracy: 1.0000 - val_loss: 0.0000e+00 - val_accuracy: 1.0000\n",
      "Epoch 29/30\n",
      "100/100 [==============================] - 37s 370ms/step - loss: 0.0000e+00 - accuracy: 1.0000 - val_loss: 0.0000e+00 - val_accuracy: 1.0000\n",
      "Epoch 30/30\n",
      "100/100 [==============================] - 37s 374ms/step - loss: 0.0000e+00 - accuracy: 1.0000 - val_loss: 0.0000e+00 - val_accuracy: 1.0000\n"
     ]
    }
   ],
   "source": [
    "history = model.fit_generator(\n",
    "        train_generator,\n",
    "        steps_per_epoch=100,\n",
    "        epochs=30,\n",
    "        validation_data=validation_generator,\n",
    "        validation_steps=50)"
   ]
  },
  {
   "cell_type": "code",
   "execution_count": 10,
   "metadata": {
    "colab": {},
    "colab_type": "code",
    "id": "WJuRCPBmy1JH"
   },
   "outputs": [],
   "source": [
    "model.save('hand_gesture_recognition.h5')"
   ]
  },
  {
   "cell_type": "code",
   "execution_count": 11,
   "metadata": {
    "colab": {
     "base_uri": "https://localhost:8080/",
     "height": 545
    },
    "colab_type": "code",
    "executionInfo": {
     "elapsed": 1352,
     "status": "ok",
     "timestamp": 1571939788955,
     "user": {
      "displayName": "Tomasz Strzoda",
      "photoUrl": "https://lh3.googleusercontent.com/a-/AAuE7mBGLtmE98o8234CPgJopZM62q5jaTV8nhZnkAYS7g=s64",
      "userId": "02245943062555407675"
     },
     "user_tz": -120
    },
    "id": "5UqXiyAdzIg_",
    "outputId": "0f6864e7-8a8b-4732-b31f-46243039b05e"
   },
   "outputs": [
    {
     "data": {
      "image/png": "[encoded data removed]",
      "text/plain": [
       "<Figure size 432x288 with 1 Axes>"
      ]
     },
     "metadata": {
      "needs_background": "light"
     },
     "output_type": "display_data"
    },
    {
     "data": {
      "image/png": "[encoded data removed]",
      "text/plain": [
       "<Figure size 432x288 with 1 Axes>"
      ]
     },
     "metadata": {
      "needs_background": "light"
     },
     "output_type": "display_data"
    }
   ],
   "source": [
    "# Plot of loss and accuracy of the model's work\n",
    "acc = history.history['accuracy']\n",
    "val_acc = history.history['val_accuracy']\n",
    "loss = history.history['loss']\n",
    "val_loss = history.history['val_loss']\n",
    "\n",
    "epochs = range(len(acc))\n",
    "\n",
    "plt.plot(epochs, acc, 'bo', label='Dokladnosc trenowania')\n",
    "plt.plot(epochs, val_acc, 'b', label='Dokladnosc walidacji')\n",
    "plt.title('Dokladnosc trenowania i walidacji')\n",
    "plt.legend()\n",
    "\n",
    "plt.figure()\n",
    "\n",
    "plt.plot(epochs, loss, 'bo', label='Strata trenowania')\n",
    "plt.plot(epochs, val_loss, 'b', label='Strata walidacji')\n",
    "plt.title('Strata trenowania i walidacji')\n",
    "plt.legend()\n",
    "\n",
    "plt.show()"
   ]
  },
  {
   "cell_type": "code",
   "execution_count": 12,
   "metadata": {
    "colab": {
     "base_uri": "https://localhost:8080/",
     "height": 51
    },
    "colab_type": "code",
    "executionInfo": {
     "elapsed": 3309,
     "status": "ok",
     "timestamp": 1571941871331,
     "user": {
      "displayName": "Tomasz Strzoda",
      "photoUrl": "https://lh3.googleusercontent.com/a-/AAuE7mBGLtmE98o8234CPgJopZM62q5jaTV8nhZnkAYS7g=s64",
      "userId": "02245943062555407675"
     },
     "user_tz": -120
    },
    "id": "N8p49QbbBZGj",
    "outputId": "717d941a-e02f-43a1-b71a-f8ff57d48e3f"
   },
   "outputs": [
    {
     "name": "stdout",
     "output_type": "stream",
     "text": [
      "dokładnosc podczas testowania: 0.9959999918937683\n"
     ]
    }
   ],
   "source": [
    "test_loss, test_acc = model.evaluate_generator(test_generator, steps=50)\n",
    "print('dokładnosc podczas testowania:', test_acc)"
   ]
  }
 ],
 "metadata": {
  "accelerator": "GPU",
  "colab": {
   "collapsed_sections": [],
   "name": "inzynierka.ipynb",
   "provenance": []
  },
  "kernelspec": {
   "display_name": "Python 3",
   "language": "python",
   "name": "python3"
  },
  "language_info": {
   "codemirror_mode": {
    "name": "ipython",
    "version": 3
   },
   "file_extension": ".py",
   "mimetype": "text/x-python",
   "name": "python",
   "nbconvert_exporter": "python",
   "pygments_lexer": "ipython3",
   "version": "3.6.9"
  }
 },
 "nbformat": 4,
 "nbformat_minor": 4
}
